{
 "cells": [
  {
   "cell_type": "markdown",
   "metadata": {},
   "source": [
    "### CORONA VIRUS BASIC VOICE ASSISTANT TO FIND TOTAL CASES OR DEATHS"
   ]
  },
  {
   "cell_type": "code",
   "execution_count": 3,
   "metadata": {},
   "outputs": [],
   "source": [
    "API_KEY=\"tWJqQ22uVMQk\"\n",
    "RUN_TOKEN=\"t4DjxckgHtnu\"\n",
    "PROJECT_TOKEN=\"tik6V2ieTsfu\""
   ]
  },
  {
   "cell_type": "code",
   "execution_count": 4,
   "metadata": {},
   "outputs": [],
   "source": [
    "import requests\n",
    "import json\n",
    "import time\n",
    "import threading\n",
    "import pyttsx3\n",
    "import speech_recognition as s\n",
    "import re"
   ]
  },
  {
   "cell_type": "code",
   "execution_count": 5,
   "metadata": {},
   "outputs": [],
   "source": [
    "response=requests.get(f'https://www.parsehub.com/api/v2/projects/{PROJECT_TOKEN}/last_ready_run/data',params={\"api_key\":API_KEY})"
   ]
  },
  {
   "cell_type": "code",
   "execution_count": 6,
   "metadata": {},
   "outputs": [],
   "source": [
    "data=json.loads(response.text)\n",
    "#print(data)"
   ]
  },
  {
   "cell_type": "code",
   "execution_count": 13,
   "metadata": {},
   "outputs": [],
   "source": [
    "class data:\n",
    "    def __init__(self,api_key,project_token):\n",
    "        self.api_key=api_key\n",
    "        self.project_token=project_token\n",
    "        self.params={\"api_key\":api_key}\n",
    "        self.data=self.getupdate()\n",
    "    \n",
    "    def getcountrylist(self):\n",
    "        countrylist=[]\n",
    "        for country in self.data[\"countries\"]:\n",
    "            countrylist.append(country['name'].lower())\n",
    "            \n",
    "        return countrylist    \n",
    "        \n",
    "        \n",
    "    def getupdate(self):\n",
    "        response=requests.get(f'https://www.parsehub.com/api/v2/projects/{PROJECT_TOKEN}/last_ready_run/data',params={\"api_key\":API_KEY})\n",
    "        data=json.loads(response.text)\n",
    "        return data\n",
    "    \n",
    "    def gettotalcases(self):\n",
    "        data= self.data['total']\n",
    "        for c in data:\n",
    "            if c['name']==\"Coronavirus Cases:\":\n",
    "                return c['value']\n",
    "            \n",
    "        \n",
    "    def gettotaldeaths(self):\n",
    "        data= self.data['total']\n",
    "        for c in data:\n",
    "            if c['name']==\"Deaths:\":\n",
    "                return c['value']   \n",
    "            \n",
    "            \n",
    "            \n",
    "    def getcountry(self,countries):\n",
    "        data= self.data[\"countries\"]\n",
    "        for c in data:\n",
    "            if c['name'].lower()==countries.lower():\n",
    "                return c\n",
    "    \n",
    "    def updateinfo(self):\n",
    "        response=requests.post(f'https://www.parsehub.com/api/v2/projects/{PROJECT_TOKEN}/run',params={\"api_key\":API_KEY})\n",
    "    \n",
    "        \n",
    "        def poll():\n",
    "            time.sleep(0.1)\n",
    "            olddata=self.data\n",
    "            while True:\n",
    "                newdata=self.getupdate()\n",
    "                if newdata!=olddata:\n",
    "                    self.data=newdata\n",
    "                    print(\"data updated\")\n",
    "                    break\n",
    "                time.sleep(5)   \n",
    "                \n",
    "        t=threading.Thread(target=poll)\n",
    "        t.start()\n",
    "        \n",
    "        \n",
    "        \n",
    "            \n",
    "            "
   ]
  },
  {
   "cell_type": "code",
   "execution_count": 14,
   "metadata": {},
   "outputs": [
    {
     "name": "stdout",
     "output_type": "stream",
     "text": [
      "{'name': 'India', 'total_cases': '5,112,431', 'new_cases': '+94,397', 'total_deaths': '83,208'}\n",
      "['usa', 'india', 'brazil', 'russia', 'peru', 'colombia', 'mexico', 'south africa', 'spain', 'argentina', 'chile', 'iran', 'france', 'uk', 'bangladesh', 'saudi arabia', 'pakistan', 'iraq', 'turkey', 'italy', 'philippines', 'germany', 'indonesia', 'israel', 'ukraine', 'canada', 'bolivia', 'qatar', 'ecuador', 'romania', 'kazakhstan', 'dominican republic', 'panama', 'egypt', 'kuwait', 'belgium', 'morocco', 'oman', 'sweden', 'netherlands', 'china', 'guatemala', 'uae', 'japan', 'poland', 'belarus', 'honduras', 'ethiopia', 'portugal', 'venezuela', 'bahrain', 'nepal', 'costa rica', 'singapore', 'nigeria', 'uzbekistan', 'algeria', 'switzerland', 'armenia', 'ghana', 'kyrgyzstan', 'moldova', 'czechia', 'afghanistan', 'azerbaijan', 'kenya', 'austria', 'palestine', 'serbia', 'ireland', 'paraguay', 'el salvador', 'australia', 'lebanon', 'libya', 'bosnia and herzegovina', 's. korea', 'denmark', 'cameroon', 'ivory coast', 'bulgaria', 'north macedonia', 'madagascar', 'senegal', 'hungary', 'greece', 'croatia', 'zambia', 'sudan', 'norway', 'albania', 'drc', 'guinea', 'malaysia', 'namibia', 'french guiana', 'maldives', 'tajikistan', 'finland', 'gabon', 'haiti', 'tunisia', 'zimbabwe', 'mauritania', 'luxembourg', 'montenegro', 'mozambique', 'slovakia', 'malawi', 'djibouti', 'uganda', 'eswatini', 'equatorial guinea', 'hong kong', 'nicaragua', 'congo', 'cabo verde', 'cuba', 'car', 'suriname', 'rwanda', 'jamaica', 'slovenia', 'jordan', 'myanmar', 'syria', 'angola', 'thailand', 'lithuania', 'gambia', 'somalia', 'mayotte', 'trinidad and tobago', 'sri lanka', 'aruba', 'guadeloupe', 'bahamas', 'réunion', 'mali', 'georgia', 'estonia', 'south sudan', 'malta', 'botswana', 'guinea-bissau', 'benin', 'iceland', 'sierra leone', 'yemen', 'guyana', 'uruguay', 'new zealand', 'burkina faso', 'togo', 'cyprus', 'belize', 'latvia', 'andorra', 'liberia', 'lesotho', 'niger', 'martinique', 'french polynesia', 'chad', 'vietnam', 'sao tome and principe', 'san marino', 'turks and caicos', 'channel islands', 'sint maarten', 'papua new guinea', 'tanzania', 'taiwan', 'burundi', 'comoros', 'faeroe islands', 'mauritius', 'eritrea', 'gibraltar', 'isle of man', 'saint martin', 'mongolia', 'cambodia', 'bhutan', 'cayman islands', 'curaçao', 'barbados', 'monaco', 'bermuda', 'brunei', 'seychelles', 'liechtenstein', 'antigua and barbuda', 'british virgin islands', 'st. vincent grenadines', 'macao', 'fiji', 'caribbean netherlands', 'saint lucia', 'timor-leste', 'new caledonia', 'dominica', 'grenada', 'laos', 'st. barth', 'saint kitts and nevis', 'greenland', 'montserrat', 'falkland islands', 'vatican city', 'saint pierre miquelon', 'western sahara', 'anguilla']\n"
     ]
    }
   ],
   "source": [
    "data=data(API_KEY,PROJECT_TOKEN)\n",
    "print(data.getcountry(\"india\"))\n",
    "print(data.getcountrylist())"
   ]
  },
  {
   "cell_type": "code",
   "execution_count": 15,
   "metadata": {},
   "outputs": [],
   "source": [
    "def speak(text):\n",
    "    engine=pyttsx3.init()\n",
    "    engine.say(text)\n",
    "    engine.runAndWait()\n",
    "\n",
    "def getaudio():\n",
    "    r=s.Recognizer()\n",
    "    with s.Microphone() as source:\n",
    "        audio=r.listen(source)\n",
    "        said=\"\"\n",
    "        try:\n",
    "            said=r.recognize_google(audio)\n",
    "        except Exception as e:\n",
    "            print(\"Exception:\",str(e))\n",
    "    return said.lower()\n"
   ]
  },
  {
   "cell_type": "code",
   "execution_count": 16,
   "metadata": {},
   "outputs": [],
   "source": [
    "#speak(\"hello\")"
   ]
  },
  {
   "cell_type": "code",
   "execution_count": 17,
   "metadata": {},
   "outputs": [],
   "source": [
    "def main():\n",
    "    countrylist=list(data.getcountrylist());\n",
    "    TOTALPATTERNS={\n",
    "        re.compile(\"[\\w\\s]+total [\\w\\s]+ cases\"):data.gettotalcases,\n",
    "        re.compile(\"[\\w\\s]+total [\\w\\s]+ deaths\"):data.gettotaldeaths,\n",
    "        re.compile(\"[\\w\\s]+total cases\"):data.gettotalcases,\n",
    "        re.compile(\"[\\w\\s]+total deaths\"):data.gettotaldeaths\n",
    "        \n",
    "    }\n",
    "    COUNTRYPATTERNS={\n",
    "        re.compile(\"[\\w\\s]+ cases [\\w\\s]+\"): lambda c: data.getcountry(c)['total_cases'],\n",
    "         re.compile(\"[\\w\\s]+ death [\\w\\s]+\"): lambda c: data.getcountry(c)['total_deaths'],\n",
    "        re.compile(\"[\\w\\s]+ deaths [\\w\\s]+\"): lambda c: data.getcountry(c)['total_deaths'],\n",
    "        re.compile(\"death [\\w\\s]+\"): lambda c: data.getcountry(c)['total_deaths'],\n",
    "        re.compile(\"[\\w\\s]+ death[\\w\\s]+\"): lambda c: data.getcountry(c)['total_deaths'],\n",
    "        \n",
    "    }\n",
    "    \n",
    "    UPDATECURRENT=\"update\"\n",
    "    \n",
    "    print(\"START\")\n",
    "    \n",
    "    END_PHRASE=\"stop\"\n",
    "    while True:\n",
    "        print(\"Speak..\")\n",
    "        result=None\n",
    "        text=getaudio()\n",
    "        print(text)\n",
    "        for p,func in COUNTRYPATTERNS.items():\n",
    "            if p.match(text):\n",
    "                words=set(text.split(\" \"))\n",
    "                for c in countrylist:\n",
    "                    if c in words:\n",
    "                        result=func(c)\n",
    "                break                    \n",
    "        for p,func in TOTALPATTERNS.items():\n",
    "            if p.match(text):\n",
    "                result=func()\n",
    "                break\n",
    "        if text==UPDATECURRENT:\n",
    "            result=\"data is being updated. this may take a moment! Please Wait!\"\n",
    "            data.updateinfo()       \n",
    "        if result:\n",
    "            speak(result)\n",
    "        if text.find(END_PHRASE)!=-1:\n",
    "            speak(\"exiting now. stay safe! Maintain Social distancing.\")\n",
    "            break\n",
    "        \n",
    "        "
   ]
  },
  {
   "cell_type": "code",
   "execution_count": 18,
   "metadata": {},
   "outputs": [
    {
     "name": "stdout",
     "output_type": "stream",
     "text": [
      "START\n",
      "Speak..\n",
      "update\n",
      "Speak..\n",
      "stop\n"
     ]
    }
   ],
   "source": [
    "main()"
   ]
  },
  {
   "cell_type": "code",
   "execution_count": null,
   "metadata": {},
   "outputs": [],
   "source": []
  }
 ],
 "metadata": {
  "kernelspec": {
   "display_name": "Python 3",
   "language": "python",
   "name": "python3"
  },
  "language_info": {
   "codemirror_mode": {
    "name": "ipython",
    "version": 3
   },
   "file_extension": ".py",
   "mimetype": "text/x-python",
   "name": "python",
   "nbconvert_exporter": "python",
   "pygments_lexer": "ipython3",
   "version": "3.7.6"
  }
 },
 "nbformat": 4,
 "nbformat_minor": 4
}
